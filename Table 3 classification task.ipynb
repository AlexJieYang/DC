{
 "cells": [
  {
   "cell_type": "code",
   "execution_count": 2,
   "id": "df8674df",
   "metadata": {},
   "outputs": [],
   "source": [
    "import random\n",
    "import matplotlib.pyplot as plt\n",
    "import pandas as pd\n",
    "import numpy as np\n",
    "import os\n",
    "import math\n",
    "import re\n",
    "from collections import Counter\n",
    "import scipy.stats\n",
    "import seaborn as sns"
   ]
  },
  {
   "cell_type": "code",
   "execution_count": 3,
   "id": "6151e00c",
   "metadata": {},
   "outputs": [],
   "source": [
    "path11 = r'E:\\netData\\MAGzip\\MAG Nobel\\2 Nobelpapers\\712 NobelpapersCD.zip'\n",
    "path12 = r'E:\\netData\\MAGzip\\MAG Nobel\\2 Nobelpapers\\712 Nobelpapers.zip'\n",
    "path21 = r'E:\\netData\\MAGzip\\MAG Nobel\\2 NobelpaperControls\\20954 NobelpapercontrolsCD.zip'\n",
    "path22 = r'E:\\netData\\MAGzip\\MAG Nobel\\2 NobelpaperControls\\20954 Nobelpapercontrols.zip'"
   ]
  },
  {
   "cell_type": "code",
   "execution_count": 4,
   "id": "378bf257",
   "metadata": {},
   "outputs": [],
   "source": [
    "fNobel1 = pd.read_csv(path11)\n",
    "fControl1 = pd.read_csv(path21)\n",
    "fNobel2 = pd.read_csv(path12)\n",
    "fControl2 = pd.read_csv(path22)"
   ]
  },
  {
   "cell_type": "code",
   "execution_count": 5,
   "id": "93ae5187",
   "metadata": {},
   "outputs": [],
   "source": [
    "fNobel = pd.concat([fNobel1 , fNobel2] , axis = 1)\n",
    "fControl = pd.concat([fControl1 , fControl2] , axis = 1)\n",
    "\n",
    "fNobel = fNobel.loc[:, ~fNobel.columns.duplicated()]\n",
    "fControl = fControl.loc[:, ~fControl.columns.duplicated()]"
   ]
  },
  {
   "cell_type": "code",
   "execution_count": 6,
   "id": "315d1d91",
   "metadata": {},
   "outputs": [],
   "source": [
    "fNobel.fillna(0 , inplace=True)\n",
    "fControl.fillna(0 , inplace=True)"
   ]
  },
  {
   "cell_type": "code",
   "execution_count": 7,
   "id": "913b975f",
   "metadata": {
    "collapsed": true
   },
   "outputs": [
    {
     "name": "stderr",
     "output_type": "stream",
     "text": [
      "C:\\Users\\nd\\AppData\\Local\\Temp\\ipykernel_19332\\1054060326.py:2: SettingWithCopyWarning: \n",
      "A value is trying to be set on a copy of a slice from a DataFrame.\n",
      "Try using .loc[row_indexer,col_indexer] = value instead\n",
      "\n",
      "See the caveats in the documentation: https://pandas.pydata.org/pandas-docs/stable/user_guide/indexing.html#returning-a-view-versus-a-copy\n",
      "  fControl0['If Prize'] = 0\n"
     ]
    }
   ],
   "source": [
    "fControl0 = fControl[['Field','cit','CD', 'DIsharp', 'DIeasy','C-CD P', 'ni']]\n",
    "fControl0['If Prize'] = 0\n",
    "fControl0.columns = ['Field','C','CD', 'DI*', 'sDI','C-CD P', 'DC','If Prize']"
   ]
  },
  {
   "cell_type": "code",
   "execution_count": 8,
   "id": "38badb4a",
   "metadata": {
    "collapsed": true
   },
   "outputs": [
    {
     "name": "stderr",
     "output_type": "stream",
     "text": [
      "C:\\Users\\nd\\AppData\\Local\\Temp\\ipykernel_19332\\2285804660.py:2: SettingWithCopyWarning: \n",
      "A value is trying to be set on a copy of a slice from a DataFrame.\n",
      "Try using .loc[row_indexer,col_indexer] = value instead\n",
      "\n",
      "See the caveats in the documentation: https://pandas.pydata.org/pandas-docs/stable/user_guide/indexing.html#returning-a-view-versus-a-copy\n",
      "  fNobel0['If Prize'] = 1\n"
     ]
    }
   ],
   "source": [
    "fNobel0 = fNobel[['Field','cit','CD', 'DIsharp', 'DIeasy','C-CD P', 'ni']]\n",
    "fNobel0['If Prize'] = 1\n",
    "fNobel0.columns = ['Field','C','CD', 'DI*', 'sDI','C-CD P', 'DC','If Prize']"
   ]
  },
  {
   "cell_type": "code",
   "execution_count": 9,
   "id": "eb4cc75e",
   "metadata": {
    "scrolled": true
   },
   "outputs": [],
   "source": [
    "fNobel1 = fNobel0[fNobel0['Field']=='Physics']\n",
    "fNobel2 = fNobel0[fNobel0['Field']=='Chemistry']\n",
    "fNobel3 = fNobel0[fNobel0['Field']=='Medicine']"
   ]
  },
  {
   "cell_type": "code",
   "execution_count": 10,
   "id": "1bad1251",
   "metadata": {},
   "outputs": [],
   "source": [
    "fControl1 = fControl0[fControl0['Field']=='Physics']\n",
    "fControl2 = fControl0[fControl0['Field']=='Chemistry']\n",
    "fControl3 = fControl0[fControl0['Field']=='Medicine']"
   ]
  },
  {
   "cell_type": "code",
   "execution_count": 11,
   "id": "405f8a0f",
   "metadata": {},
   "outputs": [],
   "source": [
    "ff1 = pd.concat([fNobel1 , fControl1])\n",
    "ff2 = pd.concat([fNobel2 , fControl2])\n",
    "ff3 = pd.concat([fNobel3 , fControl3])"
   ]
  },
  {
   "cell_type": "code",
   "execution_count": 13,
   "id": "453890c4",
   "metadata": {},
   "outputs": [],
   "source": [
    "ff1.index = range(len(ff1))\n",
    "ff2.index = range(len(ff2))\n",
    "ff3.index = range(len(ff3))"
   ]
  },
  {
   "cell_type": "markdown",
   "id": "ac15ee47",
   "metadata": {},
   "source": [
    "# task"
   ]
  },
  {
   "cell_type": "code",
   "execution_count": 12,
   "id": "786d2aa1",
   "metadata": {},
   "outputs": [],
   "source": [
    "def calculate_metrics(df):\n",
    "    results = []\n",
    "    \n",
    "    # Iterate over each column (except the target column)\n",
    "    for column in df.columns[1:-1]:\n",
    "        # Sort dataframe by the column in descending order\n",
    "        sorted_df = df.sort_values(by=column, ascending=False)\n",
    "        \n",
    "        precision_values = []\n",
    "        recall_values = []\n",
    "        f1_values = []\n",
    "        \n",
    "        # Calculate precision, recall, and F1 score for each value of k\n",
    "        for k in range(1, len(df)+1):\n",
    "            # Get the top k predictions based on the current column\n",
    "            predictions = sorted_df['If Prize'].head(k).index\n",
    "            \n",
    "            # Calculate true positives, false positives, and false negatives\n",
    "            true_positives = df.loc[predictions]['If Prize'].sum()\n",
    "            false_positives = k - true_positives\n",
    "            false_negatives = df['If Prize'].sum() - true_positives\n",
    "            \n",
    "            # Calculate precision, recall, and F1 score\n",
    "            \n",
    "            precision = true_positives / (true_positives + false_positives)\n",
    "            recall = true_positives / (true_positives + false_negatives)\n",
    "            if precision + recall!=0:\n",
    "                f1 = 2 * (precision * recall) / (precision + recall)\n",
    "            else:\n",
    "                f1 = 0\n",
    "            \n",
    "            precision_values.append(precision)\n",
    "            recall_values.append(recall)\n",
    "            f1_values.append(f1)\n",
    "        \n",
    "        # Calculate the average precision, recall, and F1 score for all k values\n",
    "        avg_precision = np.mean(precision_values)\n",
    "        avg_recall = np.mean(recall_values)\n",
    "        avg_f1 = np.mean(f1_values)\n",
    "        \n",
    "        # Append results to the list\n",
    "        results.append([column, avg_precision, avg_recall, avg_f1])\n",
    "    \n",
    "    # Create a new dataframe with the results\n",
    "    result_df = pd.DataFrame(results, columns=['Column', 'Average Precision', 'Average Recall', 'Average F1'])\n",
    "    \n",
    "    return result_df"
   ]
  },
  {
   "cell_type": "code",
   "execution_count": 14,
   "id": "18c2710a",
   "metadata": {},
   "outputs": [],
   "source": [
    "result_df1 = calculate_metrics(ff1)"
   ]
  },
  {
   "cell_type": "code",
   "execution_count": 20,
   "id": "46c25bf1",
   "metadata": {},
   "outputs": [],
   "source": [
    "result_df2 = calculate_metrics(ff2)"
   ]
  },
  {
   "cell_type": "code",
   "execution_count": 21,
   "id": "7df6dcbe",
   "metadata": {},
   "outputs": [],
   "source": [
    "result_df3 = calculate_metrics(ff3)"
   ]
  },
  {
   "cell_type": "code",
   "execution_count": 17,
   "id": "83c78c96",
   "metadata": {},
   "outputs": [
    {
     "data": {
      "text/html": [
       "<div>\n",
       "<style scoped>\n",
       "    .dataframe tbody tr th:only-of-type {\n",
       "        vertical-align: middle;\n",
       "    }\n",
       "\n",
       "    .dataframe tbody tr th {\n",
       "        vertical-align: top;\n",
       "    }\n",
       "\n",
       "    .dataframe thead th {\n",
       "        text-align: right;\n",
       "    }\n",
       "</style>\n",
       "<table border=\"1\" class=\"dataframe\">\n",
       "  <thead>\n",
       "    <tr style=\"text-align: right;\">\n",
       "      <th></th>\n",
       "      <th>Column</th>\n",
       "      <th>Average Precision</th>\n",
       "      <th>Average Recall</th>\n",
       "      <th>Average F1</th>\n",
       "    </tr>\n",
       "  </thead>\n",
       "  <tbody>\n",
       "    <tr>\n",
       "      <th>0</th>\n",
       "      <td>C</td>\n",
       "      <td>0.130808</td>\n",
       "      <td>0.942023</td>\n",
       "      <td>0.187956</td>\n",
       "    </tr>\n",
       "    <tr>\n",
       "      <th>1</th>\n",
       "      <td>CD</td>\n",
       "      <td>0.024231</td>\n",
       "      <td>0.467482</td>\n",
       "      <td>0.045870</td>\n",
       "    </tr>\n",
       "    <tr>\n",
       "      <th>2</th>\n",
       "      <td>DI*</td>\n",
       "      <td>0.024946</td>\n",
       "      <td>0.486705</td>\n",
       "      <td>0.047325</td>\n",
       "    </tr>\n",
       "    <tr>\n",
       "      <th>3</th>\n",
       "      <td>sDI</td>\n",
       "      <td>0.022225</td>\n",
       "      <td>0.444217</td>\n",
       "      <td>0.042184</td>\n",
       "    </tr>\n",
       "    <tr>\n",
       "      <th>4</th>\n",
       "      <td>C-CD P</td>\n",
       "      <td>0.104411</td>\n",
       "      <td>0.749182</td>\n",
       "      <td>0.144983</td>\n",
       "    </tr>\n",
       "    <tr>\n",
       "      <th>5</th>\n",
       "      <td>DC</td>\n",
       "      <td>0.133648</td>\n",
       "      <td>0.945655</td>\n",
       "      <td>0.190670</td>\n",
       "    </tr>\n",
       "  </tbody>\n",
       "</table>\n",
       "</div>"
      ],
      "text/plain": [
       "   Column  Average Precision  Average Recall  Average F1\n",
       "0       C           0.130808        0.942023    0.187956\n",
       "1      CD           0.024231        0.467482    0.045870\n",
       "2     DI*           0.024946        0.486705    0.047325\n",
       "3     sDI           0.022225        0.444217    0.042184\n",
       "4  C-CD P           0.104411        0.749182    0.144983\n",
       "5      DC           0.133648        0.945655    0.190670"
      ]
     },
     "execution_count": 17,
     "metadata": {},
     "output_type": "execute_result"
    }
   ],
   "source": [
    "result_df1"
   ]
  },
  {
   "cell_type": "code",
   "execution_count": 22,
   "id": "11f1c2bc",
   "metadata": {},
   "outputs": [
    {
     "data": {
      "text/html": [
       "<div>\n",
       "<style scoped>\n",
       "    .dataframe tbody tr th:only-of-type {\n",
       "        vertical-align: middle;\n",
       "    }\n",
       "\n",
       "    .dataframe tbody tr th {\n",
       "        vertical-align: top;\n",
       "    }\n",
       "\n",
       "    .dataframe thead th {\n",
       "        text-align: right;\n",
       "    }\n",
       "</style>\n",
       "<table border=\"1\" class=\"dataframe\">\n",
       "  <thead>\n",
       "    <tr style=\"text-align: right;\">\n",
       "      <th></th>\n",
       "      <th>Column</th>\n",
       "      <th>Average Precision</th>\n",
       "      <th>Average Recall</th>\n",
       "      <th>Average F1</th>\n",
       "    </tr>\n",
       "  </thead>\n",
       "  <tbody>\n",
       "    <tr>\n",
       "      <th>0</th>\n",
       "      <td>C</td>\n",
       "      <td>0.086202</td>\n",
       "      <td>0.908523</td>\n",
       "      <td>0.128635</td>\n",
       "    </tr>\n",
       "    <tr>\n",
       "      <th>1</th>\n",
       "      <td>CD</td>\n",
       "      <td>0.016284</td>\n",
       "      <td>0.475859</td>\n",
       "      <td>0.031431</td>\n",
       "    </tr>\n",
       "    <tr>\n",
       "      <th>2</th>\n",
       "      <td>DI*</td>\n",
       "      <td>0.017142</td>\n",
       "      <td>0.505006</td>\n",
       "      <td>0.033101</td>\n",
       "    </tr>\n",
       "    <tr>\n",
       "      <th>3</th>\n",
       "      <td>sDI</td>\n",
       "      <td>0.014328</td>\n",
       "      <td>0.444313</td>\n",
       "      <td>0.027726</td>\n",
       "    </tr>\n",
       "    <tr>\n",
       "      <th>4</th>\n",
       "      <td>C-CD P</td>\n",
       "      <td>0.052903</td>\n",
       "      <td>0.662897</td>\n",
       "      <td>0.077250</td>\n",
       "    </tr>\n",
       "    <tr>\n",
       "      <th>5</th>\n",
       "      <td>DC</td>\n",
       "      <td>0.089017</td>\n",
       "      <td>0.919042</td>\n",
       "      <td>0.132037</td>\n",
       "    </tr>\n",
       "  </tbody>\n",
       "</table>\n",
       "</div>"
      ],
      "text/plain": [
       "   Column  Average Precision  Average Recall  Average F1\n",
       "0       C           0.086202        0.908523    0.128635\n",
       "1      CD           0.016284        0.475859    0.031431\n",
       "2     DI*           0.017142        0.505006    0.033101\n",
       "3     sDI           0.014328        0.444313    0.027726\n",
       "4  C-CD P           0.052903        0.662897    0.077250\n",
       "5      DC           0.089017        0.919042    0.132037"
      ]
     },
     "execution_count": 22,
     "metadata": {},
     "output_type": "execute_result"
    }
   ],
   "source": [
    "result_df2"
   ]
  },
  {
   "cell_type": "code",
   "execution_count": 23,
   "id": "d7354e4a",
   "metadata": {},
   "outputs": [
    {
     "data": {
      "text/html": [
       "<div>\n",
       "<style scoped>\n",
       "    .dataframe tbody tr th:only-of-type {\n",
       "        vertical-align: middle;\n",
       "    }\n",
       "\n",
       "    .dataframe tbody tr th {\n",
       "        vertical-align: top;\n",
       "    }\n",
       "\n",
       "    .dataframe thead th {\n",
       "        text-align: right;\n",
       "    }\n",
       "</style>\n",
       "<table border=\"1\" class=\"dataframe\">\n",
       "  <thead>\n",
       "    <tr style=\"text-align: right;\">\n",
       "      <th></th>\n",
       "      <th>Column</th>\n",
       "      <th>Average Precision</th>\n",
       "      <th>Average Recall</th>\n",
       "      <th>Average F1</th>\n",
       "    </tr>\n",
       "  </thead>\n",
       "  <tbody>\n",
       "    <tr>\n",
       "      <th>0</th>\n",
       "      <td>C</td>\n",
       "      <td>0.145050</td>\n",
       "      <td>0.928360</td>\n",
       "      <td>0.206962</td>\n",
       "    </tr>\n",
       "    <tr>\n",
       "      <th>1</th>\n",
       "      <td>CD</td>\n",
       "      <td>0.039005</td>\n",
       "      <td>0.558683</td>\n",
       "      <td>0.072309</td>\n",
       "    </tr>\n",
       "    <tr>\n",
       "      <th>2</th>\n",
       "      <td>DI*</td>\n",
       "      <td>0.041146</td>\n",
       "      <td>0.596275</td>\n",
       "      <td>0.076400</td>\n",
       "    </tr>\n",
       "    <tr>\n",
       "      <th>3</th>\n",
       "      <td>sDI</td>\n",
       "      <td>0.036665</td>\n",
       "      <td>0.552280</td>\n",
       "      <td>0.068314</td>\n",
       "    </tr>\n",
       "    <tr>\n",
       "      <th>4</th>\n",
       "      <td>C-CD P</td>\n",
       "      <td>0.084791</td>\n",
       "      <td>0.672383</td>\n",
       "      <td>0.120105</td>\n",
       "    </tr>\n",
       "    <tr>\n",
       "      <th>5</th>\n",
       "      <td>DC</td>\n",
       "      <td>0.149697</td>\n",
       "      <td>0.935929</td>\n",
       "      <td>0.211786</td>\n",
       "    </tr>\n",
       "  </tbody>\n",
       "</table>\n",
       "</div>"
      ],
      "text/plain": [
       "   Column  Average Precision  Average Recall  Average F1\n",
       "0       C           0.145050        0.928360    0.206962\n",
       "1      CD           0.039005        0.558683    0.072309\n",
       "2     DI*           0.041146        0.596275    0.076400\n",
       "3     sDI           0.036665        0.552280    0.068314\n",
       "4  C-CD P           0.084791        0.672383    0.120105\n",
       "5      DC           0.149697        0.935929    0.211786"
      ]
     },
     "execution_count": 23,
     "metadata": {},
     "output_type": "execute_result"
    }
   ],
   "source": [
    "result_df3"
   ]
  },
  {
   "cell_type": "code",
   "execution_count": null,
   "id": "591352a7",
   "metadata": {},
   "outputs": [],
   "source": []
  }
 ],
 "metadata": {
  "kernelspec": {
   "display_name": "Python 3 (ipykernel)",
   "language": "python",
   "name": "python3"
  },
  "language_info": {
   "codemirror_mode": {
    "name": "ipython",
    "version": 3
   },
   "file_extension": ".py",
   "mimetype": "text/x-python",
   "name": "python",
   "nbconvert_exporter": "python",
   "pygments_lexer": "ipython3",
   "version": "3.9.12"
  }
 },
 "nbformat": 4,
 "nbformat_minor": 5
}
