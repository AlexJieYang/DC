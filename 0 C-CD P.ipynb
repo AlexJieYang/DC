{
 "cells": [
  {
   "cell_type": "code",
   "execution_count": 1,
   "id": "46683685",
   "metadata": {},
   "outputs": [],
   "source": [
    "import pandas as pd\n",
    "import numpy as np\n",
    "import os\n",
    "import math\n",
    "import re\n",
    "from collections import Counter\n",
    "import random\n",
    "import scipy.stats\n",
    "import seaborn as sns\n",
    "import matplotlib.pyplot as plt\n",
    "import statsmodels.api as sm"
   ]
  },
  {
   "cell_type": "code",
   "execution_count": 2,
   "id": "09aac312",
   "metadata": {},
   "outputs": [],
   "source": [
    "from sklearn.preprocessing import MinMaxScaler"
   ]
  },
  {
   "cell_type": "code",
   "execution_count": 3,
   "id": "41a36cbc",
   "metadata": {},
   "outputs": [],
   "source": [
    "path11 = r'E:\\netData\\MAGzip\\MAG Nobel\\2 Nobelpapers\\712 NobelpapersCD.zip'\n",
    "path12 = r'E:\\netData\\MAGzip\\MAG Nobel\\2 Nobelpapers\\712 Nobelpapers.zip'\n",
    "path21 = r'E:\\netData\\MAGzip\\MAG Nobel\\2 NobelpaperControls\\20954 NobelpapercontrolsCD.zip'\n",
    "path22 = r'E:\\netData\\MAGzip\\MAG Nobel\\2 NobelpaperControls\\20954 Nobelpapercontrols.zip'"
   ]
  },
  {
   "cell_type": "code",
   "execution_count": 4,
   "id": "02367fd9",
   "metadata": {},
   "outputs": [],
   "source": [
    "fNobel1 = pd.read_csv(path11)\n",
    "fControl1 = pd.read_csv(path21)\n",
    "fNobel2 = pd.read_csv(path12)\n",
    "fControl2 = pd.read_csv(path22)"
   ]
  },
  {
   "cell_type": "code",
   "execution_count": 5,
   "id": "aa8af2d7",
   "metadata": {},
   "outputs": [],
   "source": [
    "fNobel = pd.concat([fNobel1 , fNobel2] , axis = 1)\n",
    "fControl = pd.concat([fControl1 , fControl2] , axis = 1)\n",
    "\n",
    "fNobel = fNobel.loc[:, ~fNobel.columns.duplicated()]\n",
    "fControl = fControl.loc[:, ~fControl.columns.duplicated()]"
   ]
  },
  {
   "cell_type": "code",
   "execution_count": 6,
   "id": "103a5737",
   "metadata": {
    "scrolled": true
   },
   "outputs": [],
   "source": [
    "fNobel['type'] = 1\n",
    "fControl['type'] = 0\n",
    "df = pd.concat([fNobel , fControl])"
   ]
  },
  {
   "cell_type": "code",
   "execution_count": 8,
   "id": "e896dfb6",
   "metadata": {},
   "outputs": [],
   "source": [
    "scaler = MinMaxScaler()"
   ]
  },
  {
   "cell_type": "code",
   "execution_count": 6,
   "id": "8e8ac2e6",
   "metadata": {},
   "outputs": [],
   "source": [
    "df['C-CD P'] = np.array([i[0] for i in scaler.fit_transform(df['CD'].values.reshape(-1,1)).tolist()])+np.array([i[0] for i in scaler.fit_transform(df['cit'].values.reshape(-1,1)).tolist()])"
   ]
  },
  {
   "cell_type": "code",
   "execution_count": 7,
   "id": "62b4d0d7",
   "metadata": {},
   "outputs": [],
   "source": [
    "fNobel1['C-CD P'] = df['C-CD P'].values[:712]\n",
    "fControl1['C-CD P'] = df['C-CD P'].values[712:]"
   ]
  },
  {
   "cell_type": "code",
   "execution_count": 9,
   "id": "b2a435d4",
   "metadata": {},
   "outputs": [],
   "source": [
    "fControl1.to_csv(path21 , index = False)"
   ]
  },
  {
   "cell_type": "code",
   "execution_count": 10,
   "id": "2c77cf5d",
   "metadata": {},
   "outputs": [],
   "source": [
    "fNobel1.to_csv(path11 , index = False)"
   ]
  }
 ],
 "metadata": {
  "kernelspec": {
   "display_name": "Python 3 (ipykernel)",
   "language": "python",
   "name": "python3"
  },
  "language_info": {
   "codemirror_mode": {
    "name": "ipython",
    "version": 3
   },
   "file_extension": ".py",
   "mimetype": "text/x-python",
   "name": "python",
   "nbconvert_exporter": "python",
   "pygments_lexer": "ipython3",
   "version": "3.9.12"
  }
 },
 "nbformat": 4,
 "nbformat_minor": 5
}
